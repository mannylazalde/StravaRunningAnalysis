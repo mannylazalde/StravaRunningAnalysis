{
 "cells": [
  {
   "cell_type": "markdown",
   "metadata": {},
   "source": [
    "## Collecting Strava Data \n",
    "### Manny Lazalde\n",
    "### August 7th, 2022"
   ]
  },
  {
   "cell_type": "markdown",
   "metadata": {},
   "source": [
    "Wanted to analyze Strava Run Data, and automate nike run club conversion straight to Strava, instead of having to do it manually every so often. This way I can do it automatically in Python. Inspired by https://towardsdatascience.com/using-the-strava-api-and-pandas-to-explore-your-activity-data-d94901d9bfde"
   ]
  },
  {
   "cell_type": "markdown",
   "metadata": {},
   "source": [
    "#### Imports"
   ]
  },
  {
   "cell_type": "code",
   "execution_count": 1,
   "metadata": {},
   "outputs": [],
   "source": [
    "#web url libraries\n",
    "import requests\n",
    "import urllib3\n",
    "import json\n",
    "from urllib.request import urlopen\n",
    "urllib3.disable_warnings(urllib3.exceptions.InsecureRequestWarning)\n",
    "\n",
    "#for getting info from lat/long\n",
    "from geopy.geocoders import Nominatim\n",
    "\n",
    "import pandas as pd\n",
    "#Datetime will allow Python to recognize dates as dates, not strings.\n",
    "from datetime import datetime\n",
    "\n",
    "from selenium import webdriver\n",
    "from selenium.webdriver.chrome.service import Service\n",
    "from selenium.webdriver.common.keys import Keys\n",
    "from selenium.webdriver.common.by import By\n",
    "import time"
   ]
  },
  {
   "cell_type": "markdown",
   "metadata": {},
   "source": [
    "#### Code for Grabbing Strava Data"
   ]
  },
  {
   "cell_type": "code",
   "execution_count": 2,
   "metadata": {},
   "outputs": [
    {
     "name": "stdout",
     "output_type": "stream",
     "text": [
      "Requesting Token...\n",
      "\n",
      "Access Token = 5ae0edbc8a70ba1c3dd66692ed10d46928e93a45\n",
      "\n",
      "Success! Got it all without error!\n"
     ]
    }
   ],
   "source": [
    "#Taken from https://github.com/fpolignano/Code_From_Tutorials/blob/master/Strava_Api/strava_api.py\n",
    "#Code to grab current Strava data\n",
    "\n",
    "auth_url = \"https://www.strava.com/oauth/token\"\n",
    "activites_url = \"https://www.strava.com/api/v3/athlete/activities\"\n",
    "\n",
    "payload = {\n",
    "    'client_id': \"91559\",\n",
    "    'client_secret': '0b4ba39eb19596b212db839859d53038ee0ef8cb',\n",
    "    'refresh_token': 'fa0ed46c3baec8feeac22cf4c3819a3758439b4a',\n",
    "    'grant_type': \"refresh_token\",\n",
    "    'f': 'json'\n",
    "}\n",
    "\n",
    "print(\"Requesting Token...\\n\")\n",
    "res = requests.post(auth_url, data=payload, verify=False)\n",
    "access_token = res.json()['access_token']\n",
    "print(\"Access Token = {}\\n\".format(access_token))\n",
    "\n",
    "header = {'Authorization': 'Bearer ' + access_token}\n",
    "\n",
    "## Updating this portion to grab all of the runs from Strava in total, instead of just the last 200\n",
    "\n",
    "#param = {'per_page': 200, 'page': 1}\n",
    "#my_dataset = requests.get(activites_url, headers=header, params=param).json()\n",
    "#print(my_dataset[0][\"name\"])\n",
    "#print(my_dataset[0][\"map\"][\"summary_polyline\"])\n",
    "\n",
    "param = {'per_page': 200, 'page': 1}\n",
    "#store strava data in list, cause too complicated to merge in while loop\n",
    "df_list = []\n",
    "\n",
    "while True:\n",
    "    \n",
    "    #grab the data from strava through an http request\n",
    "    r = requests.get(activites_url, headers=header, params=param).json()\n",
    "    \n",
    "    # if no results then exit loop\n",
    "    if (not r):\n",
    "        break\n",
    "    \n",
    "    #store dataframes in list\n",
    "    df_list.append(pd.json_normalize(r))\n",
    "    \n",
    "    #keep iterating till all data is collected\n",
    "    param['page'] = param['page'] + 1\n",
    "\n",
    "print(\"Success! Got it all without error!\")"
   ]
  },
  {
   "cell_type": "markdown",
   "metadata": {},
   "source": [
    "#### Code for performing data analysis on Strava Data"
   ]
  },
  {
   "cell_type": "code",
   "execution_count": 3,
   "metadata": {
    "scrolled": true
   },
   "outputs": [],
   "source": [
    "# First move is to take list of all dataframes and merge to single dataframe. Do so below\n",
    "activities = df_list[0]\n",
    "\n",
    "for i in range(len(df_list)):\n",
    "    if i == 0:\n",
    "        continue\n",
    "    activities = pd.concat([activities,df_list[i]])\n",
    "\n",
    "#export to csv for visualization\n",
    "activities.to_csv(\"Activies.csv\")\n",
    "\n",
    "#lets drop the useless columns\n",
    "activities = activities[['resource_state', 'name', 'distance','elapsed_time',\n",
    "       'total_elevation_gain', 'type', 'workout_type', 'id',\n",
    "       'start_date_local', 'timezone',\n",
    "        'start_latlng', 'end_latlng', 'average_speed',\n",
    "       'max_speed', 'elev_high', 'elev_low', 'athlete.id']]\n",
    "\n",
    "\n",
    "#Perform data manipulation\n",
    "activities['start_date_local'] = pd.to_datetime(activities['start_date_local'])\n",
    "activities['start_time'] = activities['start_date_local'].dt.time\n",
    "activities['start_date_local'] = activities['start_date_local'].dt.date\n",
    "activities['distance_miles'] = round(activities['distance'] / 1609.34,2)\n",
    "activities['time_minutes'] = round(activities['elapsed_time'] / 60)\n",
    "\n",
    "#grab city from start_lat/long - Have to be careful with this if desired\n",
    "# https://operations.osmfoundation.org/policies/nominatim/\n",
    "#geolocator = Nominatim(user_agent=\"test\")\n",
    "#location = geolocator.reverse(\"42.3513587, -83.0653791\")\n",
    "\n",
    "#export to excel for visualization\n",
    "activities.to_excel(\"Activies.xlsx\")\n",
    "\n",
    "#activities"
   ]
  },
  {
   "cell_type": "markdown",
   "metadata": {},
   "source": [
    "Good first effort to grab all running data from strava. Next part is to compare this data against what we have on Nike run club via https://nexporter.bullrox.net/en/account/activities, and look to upload anything that isn't the same. This requires clicking a button in Python, and to do that need to use another library called Selenium. Also need to figure out how to run a Python Script daily, but can use windows scheduler, I believe."
   ]
  },
  {
   "cell_type": "code",
   "execution_count": 4,
   "metadata": {},
   "outputs": [
    {
     "name": "stdout",
     "output_type": "stream",
     "text": [
      "Logging onto website. (https://nexporter.bullrox.net/en/account/activities)\n",
      "Wait 3 seconds for login\n",
      "Ok, go!\n",
      "Checking all runs from Nike Run Club!\n",
      "Strava now up to date!\n"
     ]
    }
   ],
   "source": [
    "PATH = \"C:\\Program Files (x86)\\chromedriver.exe\"\n",
    "driver = webdriver.Chrome(service=Service(PATH), \n",
    "                          options=webdriver.ChromeOptions())\n",
    "\n",
    "#log onto the website\n",
    "driver.get(\"https://nexporter.bullrox.net/en/account/activities\")\n",
    "\n",
    "#find the text boxes and enter in magic key & email \n",
    "#need to find the web elements and then enter in the text\n",
    "search = driver.find_element(By.CLASS_NAME,\"form-control\")\n",
    "search.send_keys(\"0-_eR\")\n",
    "search = driver.find_element(By.CSS_SELECTOR,\"input[type='email']\")\n",
    "search.send_keys(\"mannylazalde@gmail.com\")\n",
    "# now find the button to click and log in with info\n",
    "search = driver.find_element(By.CSS_SELECTOR,\n",
    "                \"button.btn.btn-outline-secondary\")\n",
    "search.click()\n",
    "\n",
    "\n",
    "#delay to allow time for webpage to load\n",
    "print('Logging onto website. (https://nexporter.bullrox.net/en/account/activities)')\n",
    "print('Wait 3 seconds for login')\n",
    "time.sleep(3)\n",
    "print(\"Ok, go!\")\n",
    "\n",
    "#now we are logged into our account\n",
    "#now we need to find the list of runs and determine which ones to upload\n",
    "\n",
    "run_dates = driver.find_elements(By.CSS_SELECTOR, \n",
    "                   \"div.col-12.col-sm-12.col-md-4.col-lg-3.col-xl-2\")\n",
    "\n",
    "buttons = driver.find_elements(By.CSS_SELECTOR, \n",
    "        \"button.btn.btn-primary.btn-sm.activityActions_strava__2FClU\")\n",
    "\n",
    "\n",
    "#run_dates is now a list of all the dates appearing on the webpage in order\n",
    "#buttons is list of the corresponding upload to strava buttons\n",
    "\n",
    "#iterate through all dates from NRC website runs. \n",
    "#compare to Strava runs, and if not on strava, upload\n",
    "print(\"Checking all runs from Nike Run Club!\")\n",
    "for item,item2 in zip(run_dates,buttons):\n",
    "    \n",
    "    #convert dates from NRC from string to datetime\n",
    "    date = datetime.strptime(item.text.strip(), \n",
    "                                          '%m/%d/%Y %H:%M %p')\n",
    "    #check to see if in Strava runs. If not, need to upload\n",
    "    if not date.date() in activities['start_date_local'].values:\n",
    "        print()\n",
    "        print(str(date.date()) +\" doesn't exists in Strava Data\")\n",
    "        item2.click()\n",
    "        print(\"Clicked button and uploading now. Should now exist in Strava!\")\n",
    "        time.sleep(2)\n",
    "\n",
    "print('Strava now up to date!')\n",
    "\n",
    "driver.close()"
   ]
  },
  {
   "cell_type": "code",
   "execution_count": null,
   "metadata": {},
   "outputs": [],
   "source": []
  }
 ],
 "metadata": {
  "kernelspec": {
   "display_name": "Python 3",
   "language": "python",
   "name": "python3"
  },
  "language_info": {
   "codemirror_mode": {
    "name": "ipython",
    "version": 3
   },
   "file_extension": ".py",
   "mimetype": "text/x-python",
   "name": "python",
   "nbconvert_exporter": "python",
   "pygments_lexer": "ipython3",
   "version": "3.7.7"
  }
 },
 "nbformat": 4,
 "nbformat_minor": 4
}
